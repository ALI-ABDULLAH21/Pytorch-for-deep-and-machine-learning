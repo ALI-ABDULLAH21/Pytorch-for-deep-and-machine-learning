{
  "nbformat": 4,
  "nbformat_minor": 0,
  "metadata": {
    "colab": {
      "provenance": []
    },
    "kernelspec": {
      "name": "python3",
      "display_name": "Python 3"
    },
    "language_info": {
      "name": "python"
    }
  },
  "cells": [
    {
      "cell_type": "code",
      "execution_count": null,
      "metadata": {
        "colab": {
          "base_uri": "https://localhost:8080/"
        },
        "id": "u8wHnpsyb0hn",
        "outputId": "e6ad5f7e-8f3f-47f7-b6fa-a517fcfd868c"
      },
      "outputs": [
        {
          "output_type": "stream",
          "name": "stdout",
          "text": [
            "Pytorch Day1\n"
          ]
        }
      ],
      "source": [
        "print(\"Pytorch Day1\")"
      ]
    },
    {
      "cell_type": "code",
      "source": [
        "import torch\n",
        "import pandas as pd\n",
        "import numpy as np"
      ],
      "metadata": {
        "id": "zDetWaRYdCfW"
      },
      "execution_count": null,
      "outputs": []
    },
    {
      "cell_type": "code",
      "source": [
        "import matplotlib.pyplot as plt\n",
        "print(torch.__version__)"
      ],
      "metadata": {
        "colab": {
          "base_uri": "https://localhost:8080/"
        },
        "id": "1HvDuU0gdH7w",
        "outputId": "43d5d6e7-d893-49e9-926c-2f240e389dd9"
      },
      "execution_count": null,
      "outputs": [
        {
          "output_type": "stream",
          "name": "stdout",
          "text": [
            "2.3.0+cu121\n"
          ]
        }
      ]
    },
    {
      "cell_type": "code",
      "source": [
        "scalar=torch.tensor(7)\n",
        "scalar"
      ],
      "metadata": {
        "colab": {
          "base_uri": "https://localhost:8080/"
        },
        "id": "kZUPt7Jpg6YD",
        "outputId": "859a27cb-c564-4d65-9d7d-061190969410"
      },
      "execution_count": null,
      "outputs": [
        {
          "output_type": "execute_result",
          "data": {
            "text/plain": [
              "tensor(7)"
            ]
          },
          "metadata": {},
          "execution_count": 5
        }
      ]
    },
    {
      "cell_type": "code",
      "source": [
        "scalar.ndim\n"
      ],
      "metadata": {
        "colab": {
          "base_uri": "https://localhost:8080/"
        },
        "id": "dYrMCG8dhAvO",
        "outputId": "779fce2b-d9bf-4dfe-c554-0a4574f99400"
      },
      "execution_count": null,
      "outputs": [
        {
          "output_type": "execute_result",
          "data": {
            "text/plain": [
              "0"
            ]
          },
          "metadata": {},
          "execution_count": 6
        }
      ]
    },
    {
      "cell_type": "code",
      "source": [
        "scalar.shape"
      ],
      "metadata": {
        "colab": {
          "base_uri": "https://localhost:8080/"
        },
        "id": "auYCMRLShFuU",
        "outputId": "46a9935b-b063-4977-fa27-65d77261a60a"
      },
      "execution_count": null,
      "outputs": [
        {
          "output_type": "execute_result",
          "data": {
            "text/plain": [
              "torch.Size([])"
            ]
          },
          "metadata": {},
          "execution_count": 7
        }
      ]
    },
    {
      "cell_type": "code",
      "source": [
        "#vector"
      ],
      "metadata": {
        "id": "p-g2M1ZJhW-2"
      },
      "execution_count": null,
      "outputs": []
    },
    {
      "cell_type": "code",
      "source": [
        "vector=torch.tensor([2,2])"
      ],
      "metadata": {
        "id": "ByvKWgQGhYpj"
      },
      "execution_count": null,
      "outputs": []
    },
    {
      "cell_type": "code",
      "source": [
        "vector.ndim"
      ],
      "metadata": {
        "colab": {
          "base_uri": "https://localhost:8080/"
        },
        "id": "5iSYwbfQhhbn",
        "outputId": "5a996a96-d17f-490a-dfa7-3ebc498446f4"
      },
      "execution_count": null,
      "outputs": [
        {
          "output_type": "execute_result",
          "data": {
            "text/plain": [
              "1"
            ]
          },
          "metadata": {},
          "execution_count": 10
        }
      ]
    },
    {
      "cell_type": "code",
      "source": [
        "vector.shape"
      ],
      "metadata": {
        "colab": {
          "base_uri": "https://localhost:8080/"
        },
        "id": "-nm8fPd_hlnA",
        "outputId": "a8940788-119c-4d7d-fc20-5cbf5abe9067"
      },
      "execution_count": null,
      "outputs": [
        {
          "output_type": "execute_result",
          "data": {
            "text/plain": [
              "torch.Size([2])"
            ]
          },
          "metadata": {},
          "execution_count": 11
        }
      ]
    },
    {
      "cell_type": "code",
      "source": [
        "#matrix\n",
        "matrix=torch.tensor([[1,2],[2,1]])\n",
        "matrix"
      ],
      "metadata": {
        "colab": {
          "base_uri": "https://localhost:8080/"
        },
        "id": "zpXZu7Joh07h",
        "outputId": "12510314-d7a1-4a3d-de54-86e067a09f52"
      },
      "execution_count": null,
      "outputs": [
        {
          "output_type": "execute_result",
          "data": {
            "text/plain": [
              "tensor([[1, 2],\n",
              "        [2, 1]])"
            ]
          },
          "metadata": {},
          "execution_count": 12
        }
      ]
    },
    {
      "cell_type": "code",
      "source": [
        "matrix.ndim"
      ],
      "metadata": {
        "colab": {
          "base_uri": "https://localhost:8080/"
        },
        "id": "3aNzU89qiCGp",
        "outputId": "88dc55bc-4b9a-43b0-a40e-7720ba5fe0e8"
      },
      "execution_count": null,
      "outputs": [
        {
          "output_type": "execute_result",
          "data": {
            "text/plain": [
              "2"
            ]
          },
          "metadata": {},
          "execution_count": 13
        }
      ]
    },
    {
      "cell_type": "code",
      "source": [
        "matrix.shape"
      ],
      "metadata": {
        "colab": {
          "base_uri": "https://localhost:8080/"
        },
        "id": "9CnJXcmIikrM",
        "outputId": "36c95103-d9a2-4ed4-8769-26ab3e8a80e2"
      },
      "execution_count": null,
      "outputs": [
        {
          "output_type": "execute_result",
          "data": {
            "text/plain": [
              "torch.Size([2, 2])"
            ]
          },
          "metadata": {},
          "execution_count": 14
        }
      ]
    },
    {
      "cell_type": "code",
      "source": [
        "#random tensors\n",
        "random_tensor=torch.rand(3,4)\n",
        "random_tensor"
      ],
      "metadata": {
        "colab": {
          "base_uri": "https://localhost:8080/"
        },
        "id": "aXWcu823kRml",
        "outputId": "b24e76bf-c71c-459c-e1af-a00ad42e9936"
      },
      "execution_count": null,
      "outputs": [
        {
          "output_type": "execute_result",
          "data": {
            "text/plain": [
              "tensor([[0.2449, 0.6712, 0.2887, 0.5856],\n",
              "        [0.5610, 0.4328, 0.1753, 0.4733],\n",
              "        [0.6508, 0.2700, 0.0152, 0.3956]])"
            ]
          },
          "metadata": {},
          "execution_count": 15
        }
      ]
    },
    {
      "cell_type": "code",
      "source": [
        "random_tensor_imgsize=torch.rand(size=(3,244,244))\n",
        "random_tensor_imgsize\n"
      ],
      "metadata": {
        "colab": {
          "base_uri": "https://localhost:8080/"
        },
        "id": "suo1YGg_nQj0",
        "outputId": "48a0217d-5925-4e81-a08a-d384e502a871"
      },
      "execution_count": null,
      "outputs": [
        {
          "output_type": "execute_result",
          "data": {
            "text/plain": [
              "tensor([[[0.7163, 0.8011, 0.2299,  ..., 0.9006, 0.1544, 0.3681],\n",
              "         [0.8953, 0.8221, 0.7546,  ..., 0.5612, 0.1681, 0.7662],\n",
              "         [0.9519, 0.0815, 0.1687,  ..., 0.3579, 0.5380, 0.3164],\n",
              "         ...,\n",
              "         [0.7005, 0.5950, 0.0656,  ..., 0.5231, 0.2526, 0.3801],\n",
              "         [0.4182, 0.2112, 0.2880,  ..., 0.4613, 0.7261, 0.1608],\n",
              "         [0.0148, 0.3218, 0.5663,  ..., 0.2322, 0.8482, 0.6027]],\n",
              "\n",
              "        [[0.4335, 0.0391, 0.9777,  ..., 0.3017, 0.6456, 0.6156],\n",
              "         [0.4038, 0.9887, 0.4517,  ..., 0.7180, 0.5864, 0.4275],\n",
              "         [0.0901, 0.1987, 0.9526,  ..., 0.0283, 0.4602, 0.0094],\n",
              "         ...,\n",
              "         [0.1580, 0.3096, 0.1690,  ..., 0.2147, 0.9446, 0.3996],\n",
              "         [0.3754, 0.1046, 0.1915,  ..., 0.3789, 0.4406, 0.7513],\n",
              "         [0.3121, 0.3498, 0.9768,  ..., 0.6288, 0.8742, 0.0332]],\n",
              "\n",
              "        [[0.3934, 0.3380, 0.0870,  ..., 0.3761, 0.4155, 0.0320],\n",
              "         [0.8018, 0.0689, 0.5135,  ..., 0.7483, 0.1560, 0.0246],\n",
              "         [0.7648, 0.9684, 0.3802,  ..., 0.1354, 0.9336, 0.7392],\n",
              "         ...,\n",
              "         [0.6652, 0.2769, 0.2862,  ..., 0.1242, 0.1031, 0.0896],\n",
              "         [0.5487, 0.3536, 0.2298,  ..., 0.0303, 0.3639, 0.8408],\n",
              "         [0.0575, 0.4236, 0.3453,  ..., 0.7662, 0.6100, 0.6584]]])"
            ]
          },
          "metadata": {},
          "execution_count": 16
        }
      ]
    },
    {
      "cell_type": "code",
      "source": [
        "#arange tensors\n",
        "onetoten=torch.arange(0,11)\n",
        "onetoten"
      ],
      "metadata": {
        "colab": {
          "base_uri": "https://localhost:8080/"
        },
        "id": "I8S0yDG5qBiA",
        "outputId": "0f6025e8-6138-42e2-d304-c2697830fcf0"
      },
      "execution_count": null,
      "outputs": [
        {
          "output_type": "execute_result",
          "data": {
            "text/plain": [
              "tensor([ 0,  1,  2,  3,  4,  5,  6,  7,  8,  9, 10])"
            ]
          },
          "metadata": {},
          "execution_count": 17
        }
      ]
    },
    {
      "cell_type": "code",
      "source": [
        "#zeroslike\n",
        "onetothirty=torch.zeros_like(input=onetoten)\n",
        "onetothirty\n"
      ],
      "metadata": {
        "colab": {
          "base_uri": "https://localhost:8080/"
        },
        "id": "y4F6Jm6WqL9T",
        "outputId": "31c47c21-22f3-435d-be28-47c9d4c66562"
      },
      "execution_count": null,
      "outputs": [
        {
          "output_type": "execute_result",
          "data": {
            "text/plain": [
              "tensor([0, 0, 0, 0, 0, 0, 0, 0, 0, 0, 0])"
            ]
          },
          "metadata": {},
          "execution_count": 18
        }
      ]
    },
    {
      "cell_type": "code",
      "source": [
        "#create a tensor\n",
        "tensoroe=torch.rand(3,4)"
      ],
      "metadata": {
        "id": "XrrTOCCE8AXJ"
      },
      "execution_count": null,
      "outputs": []
    },
    {
      "cell_type": "code",
      "source": [
        "#finout some info about tensor\n",
        "print(tensoroe)\n",
        "print(f\"Datatype of tensor:{tensoroe.dtype}\")\n",
        "print(f\"Device of tensor:{tensoroe.device}\")\n",
        "print(f\"Shape of tensor:{tensoroe.shape}\")"
      ],
      "metadata": {
        "colab": {
          "base_uri": "https://localhost:8080/"
        },
        "id": "gSb1ntdI8QLg",
        "outputId": "caf1f80c-60ae-44a5-eb3f-87607e91df95"
      },
      "execution_count": null,
      "outputs": [
        {
          "output_type": "stream",
          "name": "stdout",
          "text": [
            "tensor([[0.4583, 0.1726, 0.8354, 0.1264],\n",
            "        [0.8972, 0.0302, 0.0065, 0.2124],\n",
            "        [0.6688, 0.8448, 0.9427, 0.8635]])\n",
            "Datatype of tensor:torch.float32\n",
            "Device of tensor:cpu\n",
            "Shape of tensor:torch.Size([3, 4])\n"
          ]
        }
      ]
    },
    {
      "cell_type": "markdown",
      "source": [
        "#manipulating tensors\n",
        "#operation on tensors"
      ],
      "metadata": {
        "id": "FGM-Us9X9MO2"
      }
    },
    {
      "cell_type": "code",
      "source": [
        "#addition,subtraction,multiplication,division\n",
        "tensor=torch.tensor([10,3,2])\n",
        "tensor+10"
      ],
      "metadata": {
        "colab": {
          "base_uri": "https://localhost:8080/"
        },
        "id": "q04_Ra_N94kS",
        "outputId": "e323f4a5-77a7-4cef-85fa-19de9502379d"
      },
      "execution_count": null,
      "outputs": [
        {
          "output_type": "execute_result",
          "data": {
            "text/plain": [
              "tensor([20, 13, 12])"
            ]
          },
          "metadata": {},
          "execution_count": 21
        }
      ]
    },
    {
      "cell_type": "code",
      "source": [
        "tensor*10"
      ],
      "metadata": {
        "colab": {
          "base_uri": "https://localhost:8080/"
        },
        "id": "Zfhh5i7Q-ysL",
        "outputId": "8df0706b-7d6d-43ae-deed-1bff2580be5b"
      },
      "execution_count": null,
      "outputs": [
        {
          "output_type": "execute_result",
          "data": {
            "text/plain": [
              "tensor([100,  30,  20])"
            ]
          },
          "metadata": {},
          "execution_count": 22
        }
      ]
    },
    {
      "cell_type": "code",
      "source": [
        "tensor"
      ],
      "metadata": {
        "colab": {
          "base_uri": "https://localhost:8080/"
        },
        "id": "3YEIvq7Y-1B9",
        "outputId": "1d0ad34c-1816-41ac-81a4-10792d13389a"
      },
      "execution_count": null,
      "outputs": [
        {
          "output_type": "execute_result",
          "data": {
            "text/plain": [
              "tensor([10,  3,  2])"
            ]
          },
          "metadata": {},
          "execution_count": 23
        }
      ]
    },
    {
      "cell_type": "code",
      "source": [
        "tensor-10"
      ],
      "metadata": {
        "colab": {
          "base_uri": "https://localhost:8080/"
        },
        "id": "iOBslCX--3py",
        "outputId": "da5c3b38-d759-4bb1-8d2b-395a4988081b"
      },
      "execution_count": null,
      "outputs": [
        {
          "output_type": "execute_result",
          "data": {
            "text/plain": [
              "tensor([ 0, -7, -8])"
            ]
          },
          "metadata": {},
          "execution_count": 24
        }
      ]
    },
    {
      "cell_type": "markdown",
      "source": [
        "There are two ways of matrix torch.multiplication\n",
        "1.Element wise\n",
        "2.matrix multiply"
      ],
      "metadata": {
        "id": "qI-bPg6EBTly"
      }
    },
    {
      "cell_type": "code",
      "source": [
        "tensor=torch.tensor([1,2,2])\n",
        "tensor"
      ],
      "metadata": {
        "colab": {
          "base_uri": "https://localhost:8080/"
        },
        "id": "RsUTyiy_BnjT",
        "outputId": "942d63c4-9f87-43a8-c3c0-040e9af2a940"
      },
      "execution_count": null,
      "outputs": [
        {
          "output_type": "execute_result",
          "data": {
            "text/plain": [
              "tensor([1, 2, 2])"
            ]
          },
          "metadata": {},
          "execution_count": 25
        }
      ]
    },
    {
      "cell_type": "code",
      "source": [
        "#multiplication by element\n",
        "print(f\"tensor * tensor :{tensor*tensor} \")"
      ],
      "metadata": {
        "colab": {
          "base_uri": "https://localhost:8080/"
        },
        "id": "AZxbDoPZBw79",
        "outputId": "3fa80029-7357-40eb-d4b7-a268a3465d1c"
      },
      "execution_count": null,
      "outputs": [
        {
          "output_type": "stream",
          "name": "stdout",
          "text": [
            "tensor * tensor :tensor([1, 4, 4]) \n"
          ]
        }
      ]
    },
    {
      "cell_type": "code",
      "source": [
        "#now by matrix multiplication and its just like we do in linear algebra\n",
        "torch.matmul(tensor,tensor)"
      ],
      "metadata": {
        "colab": {
          "base_uri": "https://localhost:8080/"
        },
        "id": "FTzXoPj0B-QH",
        "outputId": "9a79eac2-fbdb-4f0c-891d-b1fa48f10042"
      },
      "execution_count": null,
      "outputs": [
        {
          "output_type": "execute_result",
          "data": {
            "text/plain": [
              "tensor(9)"
            ]
          },
          "metadata": {},
          "execution_count": 27
        }
      ]
    },
    {
      "cell_type": "code",
      "source": [
        "%%time\n",
        "torch.matmul(tensor,tensor)\n"
      ],
      "metadata": {
        "colab": {
          "base_uri": "https://localhost:8080/"
        },
        "id": "Ma0UYH81DoRl",
        "outputId": "2ffd26ed-9572-42ac-c543-e13adb10d68a"
      },
      "execution_count": null,
      "outputs": [
        {
          "output_type": "stream",
          "name": "stdout",
          "text": [
            "CPU times: user 447 µs, sys: 79 µs, total: 526 µs\n",
            "Wall time: 443 µs\n"
          ]
        },
        {
          "output_type": "execute_result",
          "data": {
            "text/plain": [
              "tensor(9)"
            ]
          },
          "metadata": {},
          "execution_count": 28
        }
      ]
    },
    {
      "cell_type": "markdown",
      "source": [
        "There are two main rules for matrix multipllication\n",
        "\n",
        "1)The inner dimensions must match\n",
        "\n",
        "(3,2)@(3,2) will not work\n",
        "\n",
        "(3,2)@(2,3) will work\n",
        "\n",
        "2)The resulting matrix has the shape of **outer dimensions**\n",
        "\n",
        "(2,3)@(3,2) will result into (2,2)"
      ],
      "metadata": {
        "id": "z0ViCrAlY7_n"
      }
    },
    {
      "cell_type": "code",
      "source": [
        "torch.matmul(torch.rand(3,2),torch.rand(2,3))"
      ],
      "metadata": {
        "colab": {
          "base_uri": "https://localhost:8080/"
        },
        "id": "tM5P5BxYZmbc",
        "outputId": "a0da94b8-d04a-4c12-a30f-51f7054eb0f8"
      },
      "execution_count": null,
      "outputs": [
        {
          "output_type": "execute_result",
          "data": {
            "text/plain": [
              "tensor([[0.7392, 0.3936, 0.0602],\n",
              "        [0.2825, 0.1500, 0.0153],\n",
              "        [0.6183, 0.3314, 0.0953]])"
            ]
          },
          "metadata": {},
          "execution_count": 29
        }
      ]
    },
    {
      "cell_type": "markdown",
      "source": [
        "How to change dimensins of matrix for multiplication purpose"
      ],
      "metadata": {
        "id": "JUSWT4zWgDFh"
      }
    },
    {
      "cell_type": "code",
      "source": [
        "# by taking transpose of the matrix\n",
        "tensorA=torch.rand(2,3)\n",
        "tensorB=torch.rand(2,3)\n",
        "tensorB.T\n",
        "print(f\"After multiplying again:{tensorA@tensorB.T} \")\n"
      ],
      "metadata": {
        "colab": {
          "base_uri": "https://localhost:8080/"
        },
        "id": "7F11w0uhgIXP",
        "outputId": "cdf55bd3-57c3-4999-a4b2-ff9f03c8d1ec"
      },
      "execution_count": null,
      "outputs": [
        {
          "output_type": "stream",
          "name": "stdout",
          "text": [
            "After multiplying again:tensor([[0.5428, 0.6852],\n",
            "        [0.6478, 1.6522]]) \n"
          ]
        }
      ]
    },
    {
      "cell_type": "markdown",
      "source": [
        "**Finding the min,max,mean and sum**\n"
      ],
      "metadata": {
        "id": "1ggIBmL6hQ-H"
      }
    },
    {
      "cell_type": "code",
      "source": [
        "x=torch.arange(0,100,10)\n",
        "x"
      ],
      "metadata": {
        "colab": {
          "base_uri": "https://localhost:8080/"
        },
        "id": "A6n38ytbiQNf",
        "outputId": "9c1469ad-9792-43f2-9573-5781a0ee15cb"
      },
      "execution_count": null,
      "outputs": [
        {
          "output_type": "execute_result",
          "data": {
            "text/plain": [
              "tensor([ 0, 10, 20, 30, 40, 50, 60, 70, 80, 90])"
            ]
          },
          "metadata": {},
          "execution_count": 33
        }
      ]
    },
    {
      "cell_type": "code",
      "source": [
        "torch.min(x)"
      ],
      "metadata": {
        "colab": {
          "base_uri": "https://localhost:8080/"
        },
        "id": "tKm8DsW2jhjL",
        "outputId": "ef1cc2d0-967a-4c87-be2c-f6508be1a6f3"
      },
      "execution_count": null,
      "outputs": [
        {
          "output_type": "execute_result",
          "data": {
            "text/plain": [
              "tensor(0)"
            ]
          },
          "metadata": {},
          "execution_count": 34
        }
      ]
    },
    {
      "cell_type": "code",
      "source": [
        "torch.max(x)"
      ],
      "metadata": {
        "colab": {
          "base_uri": "https://localhost:8080/"
        },
        "id": "nUFwTq69jnk_",
        "outputId": "1e7c4fb3-e004-42a6-a1be-7d5e47797bb2"
      },
      "execution_count": null,
      "outputs": [
        {
          "output_type": "execute_result",
          "data": {
            "text/plain": [
              "tensor(90)"
            ]
          },
          "metadata": {},
          "execution_count": 35
        }
      ]
    },
    {
      "cell_type": "code",
      "source": [
        "torch.mean(x.type(torch.float32))  #finding mean"
      ],
      "metadata": {
        "colab": {
          "base_uri": "https://localhost:8080/"
        },
        "id": "SFBSl6WTj3I_",
        "outputId": "d16ab185-3b8c-4737-f789-0482bc226fbd"
      },
      "execution_count": null,
      "outputs": [
        {
          "output_type": "execute_result",
          "data": {
            "text/plain": [
              "tensor(45.)"
            ]
          },
          "metadata": {},
          "execution_count": 38
        }
      ]
    },
    {
      "cell_type": "markdown",
      "source": [
        "#Find the position of elemenets in tensor\n",
        "WE CAN DO THAT USING ARGMIN,ARGMAX FUNCTIONS\n",
        "\n",
        "#RESHAPING,STACKING,SQUEEZING AND UNSQUEEZING\n",
        "RESHAPPING: reshapes an input tensor to a desired shape\n",
        "VIEW:  view returns an input tensor of certain shape while retaining same memory\n",
        "squeeze: removes all one dimension from tensor\n",
        "unsqueeze: add one dimension\n"
      ],
      "metadata": {
        "id": "QgJMiT-DmEVC"
      }
    },
    {
      "cell_type": "code",
      "source": [
        "batchsize=10\n",
        "features=25\n",
        "x=torch.rand(batchsize,features)\n",
        "x"
      ],
      "metadata": {
        "colab": {
          "base_uri": "https://localhost:8080/"
        },
        "id": "iA7RamUIq60W",
        "outputId": "688ba706-fca2-4de5-9130-36265953797b"
      },
      "execution_count": null,
      "outputs": [
        {
          "output_type": "execute_result",
          "data": {
            "text/plain": [
              "tensor([[0.0314, 0.2552, 0.6461, 0.4575, 0.4608, 0.1563, 0.1517, 0.9360, 0.2662,\n",
              "         0.0253, 0.1972, 0.4545, 0.9516, 0.3269, 0.2530, 0.5508, 0.2749, 0.6453,\n",
              "         0.4026, 0.5449, 0.9552, 0.8656, 0.0869, 0.6735, 0.2124],\n",
              "        [0.5783, 0.6740, 0.6437, 0.0712, 0.8922, 0.1227, 0.2531, 0.2036, 0.0057,\n",
              "         0.0041, 0.4884, 0.8851, 0.4091, 0.7485, 0.7111, 0.1926, 0.7490, 0.5118,\n",
              "         0.7141, 0.5905, 0.9941, 0.7719, 0.3370, 0.7980, 0.8565],\n",
              "        [0.0123, 0.6859, 0.0202, 0.3022, 0.1805, 0.4381, 0.2996, 0.6263, 0.6600,\n",
              "         0.0048, 0.1286, 0.9301, 0.7054, 0.0654, 0.2052, 0.9831, 0.6262, 0.6979,\n",
              "         0.0086, 0.0803, 0.8260, 0.8615, 0.2842, 0.7499, 0.4605],\n",
              "        [0.3259, 0.2819, 0.0302, 0.5804, 0.5866, 0.0184, 0.0299, 0.5838, 0.9237,\n",
              "         0.3745, 0.3851, 0.9442, 0.0922, 0.6390, 0.0044, 0.3884, 0.6741, 0.9320,\n",
              "         0.4336, 0.3765, 0.1576, 0.4127, 0.4789, 0.3845, 0.1305],\n",
              "        [0.6188, 0.4296, 0.5547, 0.0330, 0.1624, 0.3569, 0.9185, 0.5738, 0.1105,\n",
              "         0.2918, 0.0745, 0.1165, 0.6073, 0.7031, 0.7353, 0.6127, 0.9784, 0.9103,\n",
              "         0.3624, 0.5530, 0.6195, 0.2408, 0.2945, 0.2016, 0.9271],\n",
              "        [0.5352, 0.6781, 0.9527, 0.0429, 0.9750, 0.7288, 0.7017, 0.2819, 0.1168,\n",
              "         0.0453, 0.7643, 0.9253, 0.1444, 0.0322, 0.4906, 0.1181, 0.7466, 0.3045,\n",
              "         0.8067, 0.5017, 0.6396, 0.1839, 0.0569, 0.5938, 0.5912],\n",
              "        [0.1708, 0.7477, 0.6712, 0.2011, 0.3971, 0.6945, 0.9960, 0.9918, 0.0647,\n",
              "         0.4330, 0.8427, 0.3492, 0.4611, 0.5152, 0.1985, 0.8276, 0.7146, 0.4598,\n",
              "         0.9617, 0.7337, 0.3937, 0.1516, 0.0229, 0.3603, 0.4270],\n",
              "        [0.0906, 0.2509, 0.3206, 0.3664, 0.0571, 0.0672, 0.1450, 0.6731, 0.0392,\n",
              "         0.9179, 0.2047, 0.1982, 0.6926, 0.5859, 0.6548, 0.1399, 0.2390, 0.2871,\n",
              "         0.2778, 0.0817, 0.2620, 0.5791, 0.3811, 0.0069, 0.9517],\n",
              "        [0.2384, 0.2406, 0.6177, 0.8131, 0.9310, 0.5996, 0.9967, 0.4908, 0.6213,\n",
              "         0.7049, 0.6491, 0.9818, 0.2693, 0.8811, 0.6373, 0.2807, 0.1746, 0.1054,\n",
              "         0.5124, 0.9243, 0.5855, 0.0154, 0.3865, 0.4555, 0.9592],\n",
              "        [0.0704, 0.1052, 0.3151, 0.6137, 0.9658, 0.6321, 0.6108, 0.3832, 0.3649,\n",
              "         0.4219, 0.8511, 0.5468, 0.7622, 0.5819, 0.1523, 0.4559, 0.8785, 0.5173,\n",
              "         0.2631, 0.0326, 0.1014, 0.3843, 0.9347, 0.8009, 0.0741]])"
            ]
          },
          "metadata": {},
          "execution_count": 39
        }
      ]
    },
    {
      "cell_type": "code",
      "source": [
        "print(x[0])\n",
        "print(x[:,0])"
      ],
      "metadata": {
        "colab": {
          "base_uri": "https://localhost:8080/"
        },
        "id": "srhLjkJZ9czM",
        "outputId": "4ae3f085-f84d-4236-c9a9-1d641542df89"
      },
      "execution_count": null,
      "outputs": [
        {
          "output_type": "stream",
          "name": "stdout",
          "text": [
            "tensor([0.0314, 0.2552, 0.6461, 0.4575, 0.4608, 0.1563, 0.1517, 0.9360, 0.2662,\n",
            "        0.0253, 0.1972, 0.4545, 0.9516, 0.3269, 0.2530, 0.5508, 0.2749, 0.6453,\n",
            "        0.4026, 0.5449, 0.9552, 0.8656, 0.0869, 0.6735, 0.2124])\n",
            "tensor([0.0314, 0.5783, 0.0123, 0.3259, 0.6188, 0.5352, 0.1708, 0.0906, 0.2384,\n",
            "        0.0704])\n"
          ]
        }
      ]
    },
    {
      "cell_type": "code",
      "source": [
        "print(x[2,0:10])"
      ],
      "metadata": {
        "colab": {
          "base_uri": "https://localhost:8080/"
        },
        "id": "17yJY_VV-fdf",
        "outputId": "1a43c1c8-8ff1-4ba8-840f-51b70356b2ee"
      },
      "execution_count": null,
      "outputs": [
        {
          "output_type": "stream",
          "name": "stdout",
          "text": [
            "tensor([0.0123, 0.6859, 0.0202, 0.3022, 0.1805, 0.4381, 0.2996, 0.6263, 0.6600,\n",
            "        0.0048])\n"
          ]
        }
      ]
    },
    {
      "cell_type": "code",
      "source": [],
      "metadata": {
        "id": "Vva3ZEZ0_Q6w"
      },
      "execution_count": null,
      "outputs": []
    }
  ]
}